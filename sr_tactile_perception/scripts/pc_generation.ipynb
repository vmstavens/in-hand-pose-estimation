{
 "cells": [
  {
   "cell_type": "code",
   "execution_count": 1,
   "metadata": {},
   "outputs": [
    {
     "name": "stdout",
     "output_type": "stream",
     "text": [
      "Jupyter environment detected. Enabling Open3D WebVisualizer.\n",
      "[Open3D INFO] WebRTC GUI backend enabled.\n",
      "[Open3D INFO] WebRTCWindowSystem: HTTP handshake server disabled.\n",
      "[1, 2, 3]\n",
      "[4, 5, 6]\n",
      "[[1. 2. 3.]\n",
      " [4. 5. 6.]]\n",
      "found legal patches\n",
      "\u001b[1;33m[Open3D WARNING] Write PCD failed: unable to generate header.\u001b[0;m\n"
     ]
    }
   ],
   "source": [
    "#!/usr/bin/env python3\n",
    "%reload_ext autoreload\n",
    "%autoreload 2\n",
    "import sys\n",
    "import pyvista as pv\n",
    "import open3d as o3d\n",
    "from typing import Union, List, Tuple\n",
    "import numpy as np\n",
    "\n",
    "\n",
    "\n",
    "# adding /subfolder to the system path\n",
    "sys.path.insert(0, '/home/user/projects/shadow_robot/base/src/ros_utils/ros_utils_py/src')\n",
    "# sys.path.insert(0, '/home/user/projects/shadow_robot/base/src/ros_utils/ros_utils_py/src/ros_utils_py')\n",
    "\n",
    "from ros_utils_py.pc_utils import PointCloudUtils as pcu\n",
    "\n",
    "stl_path = \"/home/user/projects/shadow_robot/base/src/in_hand_pose_estimation/models/stanford_bunny/meshes/stanford_bunny.stl\"\n",
    "pcd_path = \"/home/user/projects/shadow_robot/base/src/in_hand_pose_estimation/models/stanford_bunny/meshes/stanford_bunny.pcd\"\n",
    "ply_path = \"/home/user/projects/shadow_robot/base/src/in_hand_pose_estimation/models/stanford_bunny/meshes/stanford_bunny.ply\"\n",
    "test_path = \"/home/user/projects/shadow_robot/base/src/in_hand_pose_estimation/sr_tactile_perception/scripts/save_data/test.pcd\"\n",
    "save_path = \"/home/user/projects/shadow_robot/base/src/in_hand_pose_estimation/sr_tactile_perception/scripts/save_data/\"\n",
    "\n",
    "a1 = [1,2,3]\n",
    "a2 = [4,5,6]\n",
    "a3 = [a1,a2]\n",
    "\n",
    "A = np.empty((0,3))\n",
    "\n",
    "A = np.append(A, np.array(a3),axis=0)\n",
    "\n",
    "print(a1)\n",
    "print(a2)\n",
    "print(A)\n",
    "\n",
    "\n",
    "# pc = pcu.PointCloud()\n",
    "\n",
    "bunny      = pcu.PointCloud.from_file(stl_path,num_of_samples=2000,normals=True)\n",
    "bunny_frag = pcu.PointCloud.subsample(bunny,num_of_patches=20,avg_patch_size=10)\n",
    "\n",
    "\n",
    "bunny.to_file(save_path + \"bunny.pcd\")\n",
    "bunny_frag.to_file(save_path + \"test.pcd\")\n",
    "# pcu.show(bunny_frag)\n",
    "# pcu.show(bunny)\n",
    "\n",
    "\n"
   ]
  }
 ],
 "metadata": {
  "kernelspec": {
   "display_name": "Python 3",
   "language": "python",
   "name": "python3"
  },
  "language_info": {
   "codemirror_mode": {
    "name": "ipython",
    "version": 3
   },
   "file_extension": ".py",
   "mimetype": "text/x-python",
   "name": "python",
   "nbconvert_exporter": "python",
   "pygments_lexer": "ipython3",
   "version": "3.8.10"
  },
  "orig_nbformat": 4
 },
 "nbformat": 4,
 "nbformat_minor": 2
}
