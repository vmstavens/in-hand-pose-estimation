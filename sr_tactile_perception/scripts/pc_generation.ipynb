{
 "cells": [
  {
   "cell_type": "code",
   "execution_count": 5,
   "metadata": {},
   "outputs": [],
   "source": [
    "#!/usr/bin/env python3\n",
    "%reload_ext autoreload\n",
    "%autoreload 2\n",
    "import sys\n",
    "import pyvista as pv\n",
    "import open3d as o3d\n",
    "from typing import Union, List, Tuple\n",
    "import numpy as np\n",
    "import pandas as pd\n",
    "from pyntcloud import PyntCloud\n",
    "import pcl_ros\n",
    "\n",
    "import cv2\n",
    "\n",
    "# adding /subfolder to the system path\n",
    "sys.path.insert(0, '/home/user/projects/shadow_robot/base/src/ros_utils/ros_utils_py/src')\n",
    "\n",
    "from ros_utils_py.pc_utils import PointCloudUtils as pcu\n",
    "\n",
    "pcs = [\n",
    "    \"/home/user/projects/shadow_robot/base/src/in_hand_pose_estimation/sr_tactile_perception/data/source_data_20230418_165739.pcd\",  # mega go\n",
    "\"/home/user/projects/shadow_robot/base/src/in_hand_pose_estimation/sr_tactile_perception/data/source_data_20230418_170637.pcd\", # mega go\n",
    "]\n",
    "\n",
    "# print(pcs[0])\n",
    "# pc_test = pcu.PointCloud.from_file(pcs[0]).o3d_pc\n",
    "# pc_test = pcu.PointCloud(input_path=pcs[0]).o3d_pc\n",
    "\n",
    "# cl, ind = pc_test.remove_statistical_outlier(nb_neighbors=1000,std_ratio=0.5)\n",
    "# print( np.asarray(pc_test.points))\n",
    "\n",
    "filtered_pc_path = \"/home/user/projects/shadow_robot/base/src/in_hand_pose_estimation/sr_tactile_perception/data/filtered_pc.pcd\"\n",
    "\n",
    "# pcu.PointCloud.to_file(pcu.PointCloud(o3d_pc=cl), filtered_pc_path)\n",
    "pc_test = pcu.PointCloud.from_file(filtered_pc_path)\n",
    "\n",
    "pcu.show(pc_test)\n",
    "\n",
    "# for pc in pcs:\n",
    "# \tpcu.show(pc)"
   ]
  },
  {
   "cell_type": "code",
   "execution_count": 2,
   "metadata": {},
   "outputs": [
    {
     "name": "stdout",
     "output_type": "stream",
     "text": [
      "H\n"
     ]
    }
   ],
   "source": [
    "print(\"H\")"
   ]
  }
 ],
 "metadata": {
  "kernelspec": {
   "display_name": "Python 3",
   "language": "python",
   "name": "python3"
  },
  "language_info": {
   "codemirror_mode": {
    "name": "ipython",
    "version": 3
   },
   "file_extension": ".py",
   "mimetype": "text/x-python",
   "name": "python",
   "nbconvert_exporter": "python",
   "pygments_lexer": "ipython3",
   "version": "3.8.10"
  },
  "orig_nbformat": 4
 },
 "nbformat": 4,
 "nbformat_minor": 2
}
