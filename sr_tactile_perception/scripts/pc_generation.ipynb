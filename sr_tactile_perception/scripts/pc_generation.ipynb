{
 "cells": [
  {
   "cell_type": "code",
   "execution_count": 24,
   "metadata": {},
   "outputs": [
    {
     "name": "stdout",
     "output_type": "stream",
     "text": [
      "[(4, 5, 6)]\n"
     ]
    }
   ],
   "source": [
    "#!/usr/bin/env python3\n",
    "%reload_ext autoreload\n",
    "%autoreload 2\n",
    "import sys\n",
    "import pyvista as pv\n",
    "import open3d as o3d\n",
    "from typing import Union, List, Tuple\n",
    "import numpy as np\n",
    "\n",
    "# adding /subfolder to the system path\n",
    "sys.path.insert(0, '/home/user/projects/shadow_robot/base/src/ros_utils/ros_utils_py/src')\n",
    "# sys.path.insert(0, '/home/user/projects/shadow_robot/base/src/ros_utils/ros_utils_py/src/ros_utils_py')\n",
    "\n",
    "from ros_utils_py.pc_utils import PointCloudUtils as pcu\n",
    "\n",
    "stl_path = \"/home/user/projects/shadow_robot/base/src/in_hand_pose_estimation/models/stanford_bunny/meshes/stanford_bunny.stl\"\n",
    "pcd_path = \"/home/user/projects/shadow_robot/base/src/in_hand_pose_estimation/models/stanford_bunny/meshes/stanford_bunny.pcd\"\n",
    "ply_path = \"/home/user/projects/shadow_robot/base/src/in_hand_pose_estimation/models/stanford_bunny/meshes/stanford_bunny.ply\"\n",
    "test_path = \"/home/user/projects/shadow_robot/base/src/in_hand_pose_estimation/sr_tactile_perception/scripts/save_data/test.pcd\"\n",
    "\n",
    "# pc = pcu.PointCloud()\n",
    "# pc.from_file(stl_path)\n",
    "# pc.to_file(test_path)\n",
    "# pcu.show([pc])\n",
    "# pcu.cvt_from_to(stl_path, ply_path)\n",
    "\n",
    "\n",
    "# starts = []\n",
    "# offset = 10 + random(-5,5)\n",
    "# p[starts[i]:starts[i] + offset]\n",
    "\n",
    "a = [(1,2,3),(4,5,6),(7,8,9)]\n",
    "b = a[1:2]\n",
    "print(b)\n",
    "\n"
   ]
  }
 ],
 "metadata": {
  "kernelspec": {
   "display_name": "Python 3",
   "language": "python",
   "name": "python3"
  },
  "language_info": {
   "codemirror_mode": {
    "name": "ipython",
    "version": 3
   },
   "file_extension": ".py",
   "mimetype": "text/x-python",
   "name": "python",
   "nbconvert_exporter": "python",
   "pygments_lexer": "ipython3",
   "version": "3.8.10"
  },
  "orig_nbformat": 4
 },
 "nbformat": 4,
 "nbformat_minor": 2
}
